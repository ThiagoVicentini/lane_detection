{
 "cells": [
  {
   "cell_type": "markdown",
   "metadata": {
    "pycharm": {
     "name": "#%% md\n"
    }
   },
   "source": [
    "## Imports"
   ]
  },
  {
   "cell_type": "code",
   "execution_count": 4,
   "metadata": {
    "pycharm": {
     "name": "#%%\n"
    }
   },
   "outputs": [],
   "source": [
    "import numpy as np\n",
    "import imageio\n",
    "import cv2\n",
    "import json"
   ]
  },
  {
   "cell_type": "markdown",
   "metadata": {
    "collapsed": false,
    "pycharm": {
     "name": "#%% md\n"
    }
   },
   "source": [
    "## Seeding\n",
    "\n",
    "Assumes pre-defined mask listed in mask_notebook. Can be updated directly on the file "
   ]
  },
  {
   "cell_type": "markdown",
   "metadata": {
    "collapsed": false,
    "pycharm": {
     "name": "#%% md\n"
    }
   },
   "source": [
    "## Main Program\n",
    "\n",
    "Loads image"
   ]
  },
  {
   "cell_type": "code",
   "execution_count": 3,
   "metadata": {
    "collapsed": false,
    "pycharm": {
     "name": "#%%\n"
    }
   },
   "outputs": [],
   "source": [
    "# Load image\n",
    "image_path = \"dataset_examples/um_000052.png\"\n",
    "image = imageio.imread(image_path)"
   ]
  },
  {
   "cell_type": "code",
   "execution_count": 4,
   "metadata": {},
   "outputs": [],
   "source": [
    "cv2.imshow(\"Original image\", image)\n",
    "cv2.waitKey()\n",
    "cv2.destroyAllWindows()"
   ]
  },
  {
   "cell_type": "markdown",
   "metadata": {
    "collapsed": false,
    "pycharm": {
     "name": "#%% md\n"
    }
   },
   "source": [
    "## Image Pre-processing\n",
    "\n",
    "Applies a series of transformations to input image in order to "
   ]
  },
  {
   "cell_type": "code",
   "execution_count": 10,
   "metadata": {},
   "outputs": [],
   "source": [
    "# Select bottom half of the image and convert it to HSV\n",
    "image_height = image.shape[0]\n",
    "cropped_image = image[image_height // 2: image_height, :, :]\n",
    "hsv_image = cv2.cvtColor(cropped_image, cv2.COLOR_BGR2HSV)"
   ]
  },
  {
   "cell_type": "code",
   "execution_count": 11,
   "metadata": {},
   "outputs": [],
   "source": [
    "# Apply mask listed in mask_notebook.json\n",
    "masked_images = []\n",
    "with open(\"mask_notebook.json\") as masks_file:\n",
    "    masks = json.load(masks_file)\n",
    "    for mask in masks:\n",
    "        min_range = np.array(mask[\"min\"])\n",
    "        max_range = np.array(mask[\"max\"])\n",
    "        masked_images.append(cv2.inRange(image, min_range, max_range))\n",
    "\n",
    "    masked_image = np.sum(masked_images, axis=0) / len(masked_images)\n",
    "    masked_image[masked_image != 0] = 255\n",
    "    masked_image = np.uint8(masked_image)"
   ]
  },
  {
   "cell_type": "code",
   "execution_count": 12,
   "metadata": {
    "collapsed": false,
    "pycharm": {
     "name": "#%%\n"
    }
   },
   "outputs": [],
   "source": [
    "blurred_image = cv2.GaussianBlur(masked_image, (3, 3), 0)"
   ]
  },
  {
   "cell_type": "code",
   "execution_count": 13,
   "metadata": {},
   "outputs": [],
   "source": [
    "kernel = np.ones([5, 5], np.uint8)\n",
    "closed_masked_image = cv2.erode(cv2.dilate(blurred_image, kernel), kernel)"
   ]
  },
  {
   "cell_type": "code",
   "execution_count": 14,
   "metadata": {},
   "outputs": [],
   "source": [
    "canny_image = cv2.Canny(closed_masked_image, 50, 150)"
   ]
  },
  {
   "cell_type": "code",
   "execution_count": 15,
   "metadata": {},
   "outputs": [],
   "source": [
    "edged_image = cv2.erode(cv2.dilate(blurred_image, kernel), kernel)"
   ]
  },
  {
   "cell_type": "markdown",
   "metadata": {},
   "source": [
    "Show all processed images"
   ]
  },
  {
   "cell_type": "code",
   "execution_count": 17,
   "metadata": {},
   "outputs": [],
   "source": [
    "cv2.imshow(\"Cropped\", cropped_image)\n",
    "cv2.imshow(\"HSV\", hsv_image)\n",
    "cv2.imshow(\"Mask\", masked_image)\n",
    "cv2.imshow(\"Blurred\", blurred_image)\n",
    "cv2.imshow(\"Closed Blurred\", closed_masked_image)\n",
    "cv2.imshow(\"Canny\", canny_image)\n",
    "cv2.imshow(\"Edged\", edged_image)\n",
    "cv2.waitKey()\n",
    "cv2.destroyAllWindows()"
   ]
  },
  {
   "cell_type": "markdown",
   "metadata": {},
   "source": [
    "## Contour processing\n",
    "\n",
    "Find contours in image"
   ]
  },
  {
   "cell_type": "code",
   "execution_count": null,
   "outputs": [],
   "source": [
    "contours, _ = cv2.findContours(edged_image, cv2.RETR_EXTERNAL, cv2.CHAIN_APPROX_SIMPLE)\n",
    "cont_image = np.zeros([edged_image.shape[0], edged_image.shape[1], 3])\n",
    "approximated_contours = []\n",
    "\n",
    "for contour in contours:\n",
    "    if cv2.contourArea(contour) < 10: continue\n",
    "\n",
    "    epsilon = 0.01 * cv2.arcLength(contour, True)\n",
    "    approximated_contour = cv2.approxPolyDP(contour, epsilon, True)\n",
    "    convex_contour = cv2.convexHull(approximated_contour)\n",
    "    approximated_contours.append(convex_contour)\n",
    "    cv2.drawContours(cont_image, [convex_contour], -1, (0, 255, 0), 1)"
   ],
   "metadata": {
    "collapsed": false,
    "pycharm": {
     "name": "#%%\n"
    }
   }
  },
  {
   "cell_type": "markdown",
   "source": [
    "Show contours"
   ],
   "metadata": {
    "collapsed": false,
    "pycharm": {
     "name": "#%% md\n"
    }
   }
  },
  {
   "cell_type": "code",
   "execution_count": null,
   "outputs": [],
   "source": [
    "cv2.imshow(\"Contours\", cont_image)\n",
    "cv2.waitKey()\n",
    "cv2.destroyAllWindows()"
   ],
   "metadata": {
    "collapsed": false,
    "pycharm": {
     "name": "#%%\n"
    }
   }
  },
  {
   "cell_type": "markdown",
   "metadata": {},
   "source": [
    "Show contours"
   ]
  },
  {
   "cell_type": "code",
   "execution_count": null,
   "metadata": {},
   "outputs": [],
   "source": [
    "cv2.imshow(\"Contours\", cont_image)\n",
    "cv2.waitKey()\n",
    "cv2.destroyAllWindows()"
   ]
  }
 ],
 "metadata": {
  "interpreter": {
   "hash": "916dbcbb3f70747c44a77c7bcd40155683ae19c65e1c03b4aa3499c5328201f1"
  },
  "kernelspec": {
   "display_name": "Python 3.10.4 64-bit",
   "language": "python",
   "name": "python3"
  },
  "language_info": {
   "codemirror_mode": {
    "name": "ipython",
    "version": 3
   },
   "file_extension": ".py",
   "mimetype": "text/x-python",
   "name": "python",
   "nbconvert_exporter": "python",
   "pygments_lexer": "ipython3",
   "version": "3.10.4"
  },
  "orig_nbformat": 4
 },
 "nbformat": 4,
 "nbformat_minor": 2
}